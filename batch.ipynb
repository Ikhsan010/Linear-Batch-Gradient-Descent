{
 "metadata": {
  "language_info": {
   "codemirror_mode": {
    "name": "ipython",
    "version": 3
   },
   "file_extension": ".py",
   "mimetype": "text/x-python",
   "name": "python",
   "nbconvert_exporter": "python",
   "pygments_lexer": "ipython3",
   "version": "3.8.5-final"
  },
  "orig_nbformat": 2,
  "kernelspec": {
   "name": "python3",
   "display_name": "Python 3.8.5 32-bit",
   "metadata": {
    "interpreter": {
     "hash": "a5ff8bd412277661f1de1d86e35918412ea041cf137c6afab37adfce3e67ae0c"
    }
   }
  }
 },
 "nbformat": 4,
 "nbformat_minor": 2,
 "cells": [
  {
   "source": [
    "# Batch Gradient Descent\n",
    "\n",
    "Note: I use Linear calculation for activation function\n",
    "If you want to change the activation function, you can\n",
    "define it by yourself"
   ],
   "cell_type": "markdown",
   "metadata": {}
  },
  {
   "source": [
    "## Import Library"
   ],
   "cell_type": "markdown",
   "metadata": {}
  },
  {
   "cell_type": "code",
   "execution_count": 2,
   "metadata": {},
   "outputs": [],
   "source": [
    "import numpy as np\n",
    "import pandas as pd"
   ]
  },
  {
   "cell_type": "code",
   "execution_count": 3,
   "metadata": {},
   "outputs": [],
   "source": [
    "def read_file(filename, sep=','):\n",
    "    '''\n",
    "    Read the csv files and return it into\n",
    "    separated value inputs and targets\n",
    "    '''\n",
    "    df = pd.read_csv(filename, sep=sep)\n",
    "    column = list(df.columns)\n",
    "    inputs = df.loc[:, column[:-1]].to_numpy()\n",
    "    targets = df.loc[:, column[-1]].to_numpy()\n",
    "    return inputs, targets"
   ]
  },
  {
   "cell_type": "code",
   "execution_count": 4,
   "metadata": {},
   "outputs": [],
   "source": [
    "def sigma(inputs, weights):\n",
    "    '''\n",
    "    Calculate the dot products between\n",
    "    inputs and weights each value\n",
    "    '''\n",
    "    return np.dot(inputs, weights)"
   ]
  },
  {
   "cell_type": "code",
   "execution_count": 15,
   "metadata": {},
   "outputs": [],
   "source": [
    "def epoch(inputs, targets, weights, learning_rate, precision=2):\n",
    "    '''\n",
    "    Calculate each given value from inputs, targets,\n",
    "    weights, and learning rate and the result is delta\n",
    "    weights and its error calculation\n",
    "    '''\n",
    "    dw = []\n",
    "    row = len(inputs)\n",
    "    col = len(inputs[0])\n",
    "    outputs = sigma(inputs, weights)\n",
    "    w_temp = np.zeros(len(inputs[0]))\n",
    "    err = 0\n",
    "    for i in range(row):\n",
    "        temp = []\n",
    "        for j in range(col):\n",
    "            if i == 0:\n",
    "                x =  w_temp[j] + learning_rate * (targets[i] - outputs[i]) * inputs[i][j]\n",
    "            else:\n",
    "                x =  dw[i-1][j] + learning_rate * (targets[i] - outputs[i]) * inputs[i][j]\n",
    "            temp.append(x)\n",
    "\n",
    "        err = calculate_error(err, targets[i], outputs[i])\n",
    "        temp.append(err)\n",
    "        dw.append(temp)\n",
    "    \n",
    "    dw = np.array(dw)\n",
    "    return dw"
   ]
  },
  {
   "cell_type": "code",
   "execution_count": 16,
   "metadata": {},
   "outputs": [],
   "source": [
    "def calculate_error(err, target, output):\n",
    "    '''\n",
    "    Calculate error from the given target and output\n",
    "    value and initial error\n",
    "    '''\n",
    "    result = err + (np.power((target - output), 2) / 2)\n",
    "    return np.array(result)"
   ]
  },
  {
   "cell_type": "code",
   "execution_count": 17,
   "metadata": {
    "tags": []
   },
   "outputs": [],
   "source": [
    "def sprint_epoch(inputs, targets, weights, learning_rate, threshold):\n",
    "    '''\n",
    "    Calculate each epoch with the given initial inputs, targets, weights,\n",
    "    learning rate, and threshold\n",
    "    Return the matrix of shape 3D\n",
    "    '''\n",
    "    err = calculate_error(0, targets[0], sigma(inputs, weights)[0])\n",
    "    res = []\n",
    "    i = 0\n",
    "    while err > threshold:\n",
    "        data = epoch(inputs, targets, weights, learning_rate)\n",
    "        res.append(data)\n",
    "        weights = weights + data[-1][:-1]\n",
    "        err = data[-1][-1]\n",
    "        i+=1\n",
    "    \n",
    "    return res"
   ]
  },
  {
   "source": [
    "## Testing"
   ],
   "cell_type": "markdown",
   "metadata": {}
  },
  {
   "cell_type": "code",
   "execution_count": 19,
   "metadata": {
    "tags": []
   },
   "outputs": [
    {
     "output_type": "stream",
     "name": "stdout",
     "text": [
      "[[-0.3  -0.15  0.   -0.3   0.5 ]\n [ 0.   -0.15 -0.3  -0.45  1.  ]\n [ 0.3   0.15 -0.45 -0.75  1.5 ]]\n\n[[-0.19 -0.09  0.   -0.19  0.2 ]\n [-0.23 -0.09  0.04 -0.17  0.2 ]\n [-0.35 -0.22  0.1  -0.04  0.29]]\n\n[[-0.04 -0.02  0.   -0.04  0.01]\n [ 0.06 -0.02 -0.09 -0.08  0.05]\n [ 0.1   0.03 -0.12 -0.13  0.07]]\n\n[[-0.03 -0.02  0.   -0.03  0.01]\n [-0.03 -0.02 -0.01 -0.04  0.01]\n [-0.07 -0.07  0.02  0.01  0.02]]\n\n[[-0.   -0.    0.   -0.    0.  ]\n [ 0.03 -0.   -0.04 -0.02  0.01]\n [ 0.03 -0.   -0.04 -0.02  0.01]]\n\n[[-0.01 -0.    0.   -0.01  0.  ]\n [ 0.01 -0.   -0.01 -0.01  0.  ]\n [-0.02 -0.02 -0.    0.01  0.  ]]\n\n[[-9.51e-04 -4.75e-04  0.00e+00 -9.51e-04  5.02e-06]\n [ 1.70e-02 -4.75e-04 -1.79e-02 -9.92e-03  1.79e-03]\n [ 9.79e-03 -7.68e-03 -1.43e-02 -2.72e-03  2.08e-03]]\n\n[[-1.92e-03 -9.60e-04  0.00e+00 -1.92e-03  2.05e-05]\n [ 8.38e-03 -9.60e-04 -1.03e-02 -7.07e-03  6.10e-04]\n [-2.43e-03 -1.18e-02 -4.89e-03  3.74e-03  1.26e-03]]\n\n[[-5.48e-04 -2.74e-04  0.00e+00 -5.48e-04  1.67e-06]\n [ 9.57e-03 -2.74e-04 -1.01e-02 -5.61e-03  5.70e-04]\n [ 3.41e-03 -6.43e-03 -7.04e-03  5.54e-04  7.81e-04]]\n\n"
     ]
    }
   ],
   "source": [
    "inputs, targets = read_file('models.csv')\n",
    "weights = np.zeros(len(inputs[0]))\n",
    "learning_rate = 0.3\n",
    "threshold = 0.001\n",
    "se = sprint_epoch(inputs, targets, weights, learning_rate, threshold)\n",
    "for i in range(len(se)):\n",
    "    print(se[i])\n",
    "    print()"
   ]
  },
  {
   "source": [
    "## Credits\n",
    "### 13518010 Moh. Mirza Maulana Ikhsan"
   ],
   "cell_type": "markdown",
   "metadata": {}
  }
 ]
}